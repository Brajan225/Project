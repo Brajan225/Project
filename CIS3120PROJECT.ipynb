{
 "cells": [
  {
   "cell_type": "markdown",
   "id": "ab61e91d",
   "metadata": {},
   "source": [
    "## Project: Analyze what are the most preferred majors by students.\n",
    "## The objective of the project is to find and analyze what majors does students go for, and what majors they dont like"
   ]
  },
  {
   "cell_type": "code",
   "execution_count": null,
   "id": "ee106b65",
   "metadata": {},
   "outputs": [],
   "source": [
    "import requests\n",
    "import numpy as np\n",
    "import liml.html\n",
    "import pandas as pd\n",
    "import urllib. request\n",
    "\n",
    "from bs4 import BeautifulSoup\n",
    "from urllib. request import urlopen"
   ]
  },
  {
   "cell_type": "code",
   "execution_count": null,
   "id": "a682ff75",
   "metadata": {},
   "outputs": [],
   "source": [
    "#uploading website data \n",
    "url= \"https://public.tableau.com/app/profile/niche.insights/viz/DataDivesPopularityofMajorsonNiche/Sheet1'\\n\"\n",
    "page = urllib.request.urlopen(url)\n",
    "soup = BeautifulSoup(page, \"lxml\")"
   ]
  },
  {
   "cell_type": "code",
   "execution_count": null,
   "id": "1ed6aed3",
   "metadata": {},
   "outputs": [],
   "source": [
    "#setting data to a table\n",
    "table = soup.find('table', class_='wikitable sortable')\n",
    "\n",
    "A=[]\n",
    "B=[]\n",
    "C=[]"
   ]
  },
  {
   "cell_type": "code",
   "execution_count": null,
   "id": "01ba1091",
   "metadata": {},
   "outputs": [],
   "source": [
    "#finding data in each column\n",
    "\n",
    "for row in table. findAll('tr'):\n",
    "cells = row. findAll('td')\n",
    "if len(cells) ==6 \n",
    "A. append (cells [0]. find (text=True))\n",
    "clink=cells [1]. findAll('a')\n",
    "B.append (clink[0].contents[0])\n",
    "C.append(cells [2]. find(text=True))\n",
    "D.append (cells [3]. find (text=True) )\n",
    "E.append(cells [4]. find(text=True))"
   ]
  },
  {
   "cell_type": "code",
   "execution_count": null,
   "id": "54ffb998",
   "metadata": {},
   "outputs": [],
   "source": [
    "#creating dataset\n",
    "dataset = pd. DataFrame (A, columns = ['Rank'])\n",
    "dataset ['Major']= B\n",
    "dataset[ 'Year of Graduation' ] = C\n",
    "dataset['Gender']= D\n",
    "\n",
    "print (dataset)"
   ]
  },
  {
   "cell_type": "code",
   "execution_count": null,
   "id": "7365d965",
   "metadata": {},
   "outputs": [],
   "source": [
    "#2nd data set\n",
    "url = \"https://www.niche.com/about/enrollment-insights/data-dive-popular-majors-on-niche/'\\n\"\n",
    "page = urllib.request.urlopen(url)\n",
    "soup = BeautifulSoup(page, \"xml')"
   ]
  },
  {
   "cell_type": "code",
   "execution_count": null,
   "id": "5670ba97",
   "metadata": {},
   "outputs": [],
   "source": [
    "table = soup.find( 'table',class ='wikitable sortable')\n",
    "\n",
    "A = []\n",
    "B = []"
   ]
  },
  {
   "cell_type": "code",
   "execution_count": null,
   "id": "884b55d7",
   "metadata": {},
   "outputs": [],
   "source": [
    "for row in table. findAll('tr'):\n",
    "    cells=row. findAll('td')\n",
    "    if len(cells)==9:\n",
    "     clink=cells [1]. findAll('a)\n",
    "     A.append (clink[0].contents [0])\n",
    "     B. append (cells [6].find(text=True))\n",
    "                              \n",
    "datasetl = pd.DataFrame (A, columns = ['Major' ])\n",
    "dataset1['Year of Graduation'] = B"
   ]
  },
  {
   "cell_type": "code",
   "execution_count": null,
   "id": "c7f228dd",
   "metadata": {},
   "outputs": [],
   "source": [
    "#merging datasets\n",
    "newdataset = (pd.merge (dataset, datasetl, on = 'Major'))\n",
    "print (newdataset)"
   ]
  },
  {
   "cell_type": "code",
   "execution_count": null,
   "id": "213ae204",
   "metadata": {},
   "outputs": [],
   "source": [
    "#References:\n",
    "#https://public.tableau.com/app/profile/niche.insights/viz/DataDivesPopularityofMajorsonNiche/Sheet1'\\n\n",
    "#https://www.niche.com/about/enrollment-insights/data-dive-popular-majors-on-niche/'\\n"
   ]
  }
 ],
 "metadata": {
  "kernelspec": {
   "display_name": "Python 3 (ipykernel)",
   "language": "python",
   "name": "python3"
  },
  "language_info": {
   "codemirror_mode": {
    "name": "ipython",
    "version": 3
   },
   "file_extension": ".py",
   "mimetype": "text/x-python",
   "name": "python",
   "nbconvert_exporter": "python",
   "pygments_lexer": "ipython3",
   "version": "3.9.12"
  }
 },
 "nbformat": 4,
 "nbformat_minor": 5
}
