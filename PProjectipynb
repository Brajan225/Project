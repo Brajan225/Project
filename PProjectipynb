{
 "cells": [
  {
   "cell_type": "markdown",
   "id": "e443d30b",
   "metadata": {},
   "source": [
    "## Project: Analyze what are the most preferred majors by students.\n",
    "## The objective of the project is to find and analyze what majors does students go for, and what majors they dont like."
   ]
  },
  {
   "cell_type": "code",
   "execution_count": null,
   "id": "5dfce4d6",
   "metadata": {},
   "outputs": [],
   "source": [
    "import requests\n",
    "import numpy as np\n",
    "import lxml.html\n",
    "import pandas as pd\n",
    "import urllib.request\n",
    "\n",
    "from bs4 import BeautifulSoup\n",
    "from urllib.request import urlopen"
   ]
  },
  {
   "cell_type": "code",
   "execution_count": null,
   "id": "caa67736",
   "metadata": {},
   "outputs": [],
   "source": [
    "#uploading website data\n",
    "url ='https://public.tableau.com/app/profile/niche.insights/viz/DataDivesPopularityofMajorsonNiche/Sheet1'\n",
    "page = urllib.request.urlopen(url)\n",
    "soup = BeautifulSoup(page, \"lxml\")\n",
    "#print(soup.prettify())"
   ]
  },
  {
   "cell_type": "code",
   "execution_count": null,
   "id": "96d33f46",
   "metadata": {},
   "outputs": [],
   "source": [
    "#setting datato a table \n",
    "table= soup.find('table', class_='wikitable sortable')\n",
    "\n",
    "A=[]\n",
    "B=[]\n",
    "C=[]"
   ]
  },
  {
   "cell_type": "code",
   "execution_count": null,
   "id": "cc51fa23",
   "metadata": {},
   "outputs": [],
   "source": [
    "#creating dataset\n",
    "dataset= pd.DataFrame(A columns= ['major'])\n",
    "dataset= ['Year of Graduation']\n",
    "dataset= ['Gender']\n",
    "printdataset"
   ]
  },
  {
   "cell_type": "code",
   "execution_count": null,
   "id": "be22fe33",
   "metadata": {},
   "outputs": [],
   "source": [
    "#2nd dataset\n",
    "url ='https://www.niche.com/about/enrollment-insights/data-dive-popular-majors-on-niche/'\n",
    "page = urllib.request.urlopen(url)\n",
    "soup = BeautifulSoup(page, \"lxml\")"
   ]
  },
  {
   "cell_type": "code",
   "execution_count": null,
   "id": "4818fe79",
   "metadata": {},
   "outputs": [],
   "source": [
    "table= soup.find('table', class_='wikitable sortable')\n",
    "A=[]\n",
    "B=[]"
   ]
  },
  {
   "cell_type": "code",
   "execution_count": null,
   "id": "847ce4d4",
   "metadata": {},
   "outputs": [],
   "source": [
    "for row in table.findAll('tr'):\n",
    "    cells=row.findAll('td')\n",
    "    if len(cells)==9:\n",
    "        clink=cells[1]findAll('a')\n",
    "        A.append(clink[0].contents[0])\n",
    "        B.append(cells[6].find(text=True))"
   ]
  },
  {
   "cell_type": "code",
   "execution_count": null,
   "id": "7b767011",
   "metadata": {},
   "outputs": [],
   "source": [
    "dataset1=pd.DataFrame(A,columns= ['Major'])\n",
    "dataset1=['Year of Graduation)']=B"
   ]
  },
  {
   "cell_type": "raw",
   "id": "7a92fef5",
   "metadata": {},
   "source": [
    "#merging datasets\n",
    "newdataset = (pd.merge(dataset,dataset1, on = 'Major')\n",
    "print(newdataset)"
   ]
  },
  {
   "cell_type": "code",
   "execution_count": null,
   "id": "6c6a47eb",
   "metadata": {},
   "outputs": [],
   "source": [
    "#references\n",
    "#https://public.tableau.com/app/profile/niche.insights/viz/DataDivesPopularityofMajorsonNiche/Sheet1\n",
    "#https://www.niche.com/about/enrollment-insights/data-dive-popular-majors-on-niche/"
   ]
  },
  {
   "cell_type": "code",
   "execution_count": null,
   "id": "13a66323",
   "metadata": {},
   "outputs": [],
   "source": []
  }
 ],
 "metadata": {
  "kernelspec": {
   "display_name": "Python 3 (ipykernel)",
   "language": "python",
   "name": "python3"
  },
  "language_info": {
   "codemirror_mode": {
    "name": "ipython",
    "version": 3
   },
   "file_extension": ".py",
   "mimetype": "text/x-python",
   "name": "python",
   "nbconvert_exporter": "python",
   "pygments_lexer": "ipython3",
   "version": "3.9.12"
  }
 },
 "nbformat": 4,
 "nbformat_minor": 5
}
